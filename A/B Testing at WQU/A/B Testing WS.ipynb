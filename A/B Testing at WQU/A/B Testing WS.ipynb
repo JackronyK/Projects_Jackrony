{
 "cells": [
  {
   "cell_type": "markdown",
   "metadata": {},
   "source": [
    "# Project 7 Overview: Increasing Quiz Completion for WQU's DS Lab Applicants\n",
    "\n",
    "### Project Objective\n",
    "You've reached Project 7! The team at WQU, led by Nicholas, has identified a critical issue: many applicants to the DS Lab are not completing the admissions quiz. Your mission is to design and conduct an experiment to improve quiz completion rates.\n",
    "\n",
    "This project will guide you through exploring the DS Lab applicant pool, formulating a research question and hypothesis, running an experiment, analyzing results, and building an interactive web application to simulate the experiment.\n",
    "\n",
    "---\n",
    "\n",
    "### Project Steps\n",
    "\n",
    "1. **Explore the Applicant Pool**\n",
    "   - Understand the demographic and behavioral patterns of DS Lab applicants.\n",
    "   - Formulate a research question and hypothesis around factors that might impact quiz completion.\n",
    "\n",
    "2. **Design and Run an A/B Test**\n",
    "   - Implement an experiment to test changes aimed at increasing quiz completion rates. \n",
    "   - A/B testing, also known as a randomized controlled experiment, is commonly used to optimize marketing, pricing, campaign messages, and more.\n",
    "\n",
    "3. **Analyze Experiment Results**\n",
    "   - Use a chi-square test to evaluate the results and determine if the experiment significantly impacted quiz completion rates.\n",
    "\n",
    "4. **Build an Interactive Web Application**\n",
    "   - Develop a web application with a three-tiered design pattern to allow others to run the experiment interactively.\n",
    "\n",
    "---\n",
    "\n",
    "### Key Skills You'll Gain\n",
    "\n",
    "- **[Choropleth](https://chatgpt.com/share/671f847b-6f34-800a-b1e2-0347c15c86b6) Mapping**: Visualize the global distribution of ADSL students.\n",
    "- **ETL Process Automation**: Create a custom Python class to handle Extract, Transform, Load (ETL) processes.\n",
    "- **Experimental Design & Analysis**: Conduct and analyze a chi-square test on A/B testing results.\n",
    "- **Interactive Web Application Development**: Build a user-friendly app for others to simulate the experiment.\n",
    "\n",
    "---\n",
    "\n",
    "This project combines data science, experimentation, and web development, providing valuable experience for both academic and industry applications. Good luck, and have fun with the experimentation process!\n",
    "\n",
    "---"
   ]
  },
  {
   "cell_type": "markdown",
   "metadata": {},
   "source": []
  }
 ],
 "metadata": {
  "kernelspec": {
   "display_name": "Python 3",
   "language": "python",
   "name": "python3"
  },
  "language_info": {
   "name": "python",
   "version": "3.12.3"
  }
 },
 "nbformat": 4,
 "nbformat_minor": 2
}
