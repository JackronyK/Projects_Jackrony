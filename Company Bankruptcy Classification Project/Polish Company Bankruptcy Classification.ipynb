{
 "cells": [
  {
   "cell_type": "markdown",
   "metadata": {},
   "source": [
    "# Bankrupt Prediction Model\n",
    "\n",
    "![Bankrupt Image](https://www.sawinlaw.com/wp-content/uploads/2018/09/shutterstock_605354063.jpg)\n",
    "\n",
    "---\n",
    "\n",
    "## Introduction\n",
    "\n",
    "In this project, we will develop a model to predict whether a company in Poland will go bankrupt based on its financial data. The goal is to use machine learning techniques to analyze financial indicators and identify patterns that may indicate a higher risk of bankruptcy.\n",
    "\n",
    "## Steps Involved\n",
    "\n",
    "1. **Define the Problem and Goals**\n",
    "2. **Data Loading**\n",
    "3. **Data Preprocessing**\n",
    "4. **Exploratory Data Analysis (EDA)**\n",
    "5. **Feature Selection**\n",
    "6. **Model Selection**\n",
    "7. **Model Training and Evaluation**\n",
    "8. **Model Tuning**\n",
    "9. **Model Validation**\n",
    "10. **Deployment**\n",
    "11. **Monitoring and Maintenance**\n",
    "\n",
    "---\n",
    "\n"
   ]
  },
  {
   "cell_type": "markdown",
   "metadata": {},
   "source": [
    "### Importing Libraries"
   ]
  },
  {
   "cell_type": "code",
   "execution_count": 7,
   "metadata": {},
   "outputs": [],
   "source": [
    "import pandas as pd\n",
    "import numpy as np\n",
    "import matplotlib.pyplot as plt\n",
    "\n",
    "import json\n",
    "import gzip\n",
    "import pickle\n",
    "\n",
    "from sklearn.model_selection import cross_val_score, train_test_split, GridSearchCV\n",
    "from sklearn.impute import SimpleImputer\n",
    "from sklearn.pipeline import make_pipeline\n",
    "\n",
    "\n",
    "import xgboost\n",
    "from sklearn.ensemble import RandomForestClassifier, GradientBoostingClassifier\n",
    "\n",
    "\n",
    "from sklearn.metrics import classification_report, confusion_matrix, ConfusionMatrixDisplay, accuracy_score"
   ]
  },
  {
   "cell_type": "markdown",
   "metadata": {},
   "source": [
    "### **1.Data Loading and Wrangling**\n",
    "The data is in .gz file type (Compressed file)  \n",
    "We will use gzip to open it"
   ]
  },
  {
   "cell_type": "code",
   "execution_count": 1,
   "metadata": {},
   "outputs": [],
   "source": [
    "#This function will help load the .gz to a json format \n",
    "def wrangle(file_path):\n",
    "    with gzip.open(file_path, 'rb') as f:\n",
    "        df_json = json.load(f)\n",
    "    return df_json\n",
    "\n"
   ]
  }
 ],
 "metadata": {
  "kernelspec": {
   "display_name": "Python_Dev",
   "language": "python",
   "name": "python3"
  },
  "language_info": {
   "codemirror_mode": {
    "name": "ipython",
    "version": 3
   },
   "file_extension": ".py",
   "mimetype": "text/x-python",
   "name": "python",
   "nbconvert_exporter": "python",
   "pygments_lexer": "ipython3",
   "version": "3.10.13"
  }
 },
 "nbformat": 4,
 "nbformat_