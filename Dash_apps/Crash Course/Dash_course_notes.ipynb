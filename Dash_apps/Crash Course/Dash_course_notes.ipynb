{
 "cells": [
  {
   "cell_type": "markdown",
   "metadata": {},
   "source": [
    "<h1 style = \"text-align: center;\">Dash Crash Course Notes</h1>\n",
    "\n",
    "---"
   ]
  },
  {
   "cell_type": "markdown",
   "metadata": {},
   "source": [
    "<h2 style = \"text-align: left;\">Dash Fundamentals</h2>\n",
    "\n",
    "### 1. Dash Layout\n"
   ]
  },
  {
   "cell_type": "markdown",
   "metadata": {},
   "source": [
    "- This tutorial will walk me through fundamental aspect of Dash apps\n",
    "-  Dash apps are composed of 2 parts:  \n",
    "    i. 'layout' - describes what the app looks like   \n",
    "    ii. callback - Interactivity of the app   "
   ]
  },
  {
   "cell_type": "markdown",
   "metadata": {},
   "source": [
    "#### App 001"
   ]
  },
  {
   "cell_type": "code",
   "execution_count": 4,
   "metadata": {},
   "outputs": [
    {
     "data": {
      "text/html": [
       "\n",
       "        <iframe\n",
       "            width=\"100%\"\n",
       "            height=\"650\"\n",
       "            src=\"http://127.0.0.1:8051/\"\n",
       "            frameborder=\"0\"\n",
       "            allowfullscreen\n",
       "            \n",
       "        ></iframe>\n",
       "        "
      ],
      "text/plain": [
       "<IPython.lib.display.IFrame at 0x1d411eac560>"
      ]
     },
     "metadata": {},
     "output_type": "display_data"
    }
   ],
   "source": [
    "#Libraries\n",
    "import plotly.express as px\n",
    "import pandas as pd\n",
    "from dash import Dash, html, dcc\n",
    "\n",
    "\n",
    "#Initializing the app\n",
    "app = Dash(__name__)\n",
    "\n",
    "#Data\n",
    "df = pd.DataFrame({\n",
    "    \"Fruit\" : [\"Apples\", \"Oranges\", \"Bananas\", \"Apples\", \"Oranges\", \"Bananas\"],\n",
    "    \"Amount\" : [4, 1, 2, 2, 4, 5],\n",
    "    \"City\": [\"SF\", \"SF\", \"SF\", \"Montreal\", \"Montreal\", \"Montreal\"]\n",
    "})\n",
    "\n",
    "fig = px.bar(df, x= \"Fruit\", y= \"Amount\", color= \"City\", barmode= \"group\")\n",
    "\n",
    "\n",
    "#App Layout\n",
    "\n",
    "app.layout = html.Div (children= [\n",
    "    html.H1 (children= \"Hello Dash\"),\n",
    "    html.Div(children= '''\n",
    "             Dash: A web Application framework for your Data.\n",
    "             '''),\n",
    "    dcc.Graph(id = 'graph', figure= fig)\n",
    "])\n",
    "\n",
    "if __name__ == '__main__':\n",
    "    app.run_server(debug=True, port=8051)\n",
    "\n",
    "\n"
   ]
  },
  {
   "cell_type": "code",
   "execution_count": null,
   "metadata": {},
   "outputs": [],
   "source": []
  }
 ],
 "metadata": {
  "kernelspec": {
   "display_name": "WorldQuantProjects",
   "language": "python",
   "name": "python3"
  },
  "language_info": {
   "codemirror_mode": {
    "name": "ipython",
    "version": 3
   },
   "file_extension": ".py",
   "mimetype": "text/x-python",
   "name": "python",
   "nbconvert_exporter": "python",
   "pygments_lexer": "ipython3",
   "version": "3.12.3"
  }
 },
 "nbformat": 4,
 "nbformat_minor": 2
}
