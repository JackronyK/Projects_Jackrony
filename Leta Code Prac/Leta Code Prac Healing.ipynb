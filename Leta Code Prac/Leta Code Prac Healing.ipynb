{
 "cells": [
  {
   "cell_type": "markdown",
   "metadata": {},
   "source": [
    "## 1. Arrays\n",
    "1. Return given an array return an array answer such that answer is equal to equal to the prod of all elements except num i"
   ]
  },
  {
   "cell_type": "code",
   "execution_count": 2,
   "metadata": {},
   "outputs": [
    {
     "data": {
      "text/plain": [
       "600"
      ]
     },
     "execution_count": 2,
     "metadata": {},
     "output_type": "execute_result"
    }
   ],
   "source": [
    "import numpy as np\n",
    "def array_prod(arr):\n",
    "    return arr[1:].prod()\n",
    "\n",
    "arr = np.array([4,3,2,4,5,5])\n",
    "array_prod(arr)"
   ]
  },
  {
   "cell_type": "markdown",
   "metadata": {},
   "source": [
    "2.\tGiven an integer array nums, move all O's to the end of it while maintaining the relative order of the non-zero elements. Note that you must do this in­ place without making a copy of the array.\n"
   ]
  },
  {
   "cell_type": "code",
   "execution_count": 3,
   "metadata": {},
   "outputs": [
    {
     "data": {
      "text/plain": [
       "array([2, 4, 5, 6, 2, 5, 6, 6, 0, 0, 0])"
      ]
     },
     "execution_count": 3,
     "metadata": {},
     "output_type": "execute_result"
    }
   ],
   "source": [
    "def arr_0_mov(arr):\n",
    "    lst_0 = []\n",
    "    for element in arr:\n",
    "        if element == 0:\n",
    "            #removing the 0\n",
    "            arr = np.delete(arr, np.where(arr == element)[0])\n",
    "\n",
    "            lst_0.append(element)\n",
    "\n",
    "\n",
    "            #adding it at the end \n",
    "    arr = np.append(arr, lst_0)\n",
    "\n",
    "    return arr\n",
    "arr2 = np.array([2,4,5,0,6,0,2,5,6,0,6])\n",
    "arr_0_mov(arr2)"
   ]
  },
  {
   "cell_type": "markdown",
   "metadata": {},
   "source": [
    "3. You are given an array of prices where prices[i] is the price of a given stock on an ith day. You want to maximise your profit by choosing a single day to buy one stock and choosing a different day in the future to sell that stock. Return the maximum profit you can achieve from this transaction. If you cannot achieve any profit, return 0"
   ]
  },
  {
   "cell_type": "code",
   "execution_count": 4,
   "metadata": {},
   "outputs": [],
   "source": [
    "def stock_prices(stock_prices,buy_day, sell_day):\n",
    "    buying_price = stock_prices[buy_day]\n",
    "    selling_price = stock_prices[sell_day]\n",
    "    profit = selling_price - buying_price\n",
    "    return profit if profit > 0 else 0"
   ]
  },
  {
   "cell_type": "code",
   "execution_count": 9,
   "metadata": {},
   "outputs": [
    {
     "name": "stderr",
     "output_type": "stream",
     "text": [
      "[*********************100%%**********************]  1 of 1 completed\n"
     ]
    },
    {
     "data": {
      "text/html": [
       "<div>\n",
       "<style scoped>\n",
       "    .dataframe tbody tr th:only-of-type {\n",
       "        vertical-align: middle;\n",
       "    }\n",
       "\n",
       "    .dataframe tbody tr th {\n",
       "        vertical-align: top;\n",
       "    }\n",
       "\n",
       "    .dataframe thead th {\n",
       "        text-align: right;\n",
       "    }\n",
       "</style>\n",
       "<table border=\"1\" class=\"dataframe\">\n",
       "  <thead>\n",
       "    <tr style=\"text-align: right;\">\n",
       "      <th></th>\n",
       "      <th>Open</th>\n",
       "      <th>High</th>\n",
       "      <th>Low</th>\n",
       "      <th>Close</th>\n",
       "      <th>Adj Close</th>\n",
       "      <th>Volume</th>\n",
       "    </tr>\n",
       "    <tr>\n",
       "      <th>Date</th>\n",
       "      <th></th>\n",
       "      <th></th>\n",
       "      <th></th>\n",
       "      <th></th>\n",
       "      <th></th>\n",
       "      <th></th>\n",
       "    </tr>\n",
       "  </thead>\n",
       "  <tbody>\n",
       "    <tr>\n",
       "      <th>2024-04-22</th>\n",
       "      <td>63.040001</td>\n",
       "      <td>63.634998</td>\n",
       "      <td>62.480000</td>\n",
       "      <td>63.189999</td>\n",
       "      <td>63.189999</td>\n",
       "      <td>9958200</td>\n",
       "    </tr>\n",
       "    <tr>\n",
       "      <th>2024-04-23</th>\n",
       "      <td>63.380001</td>\n",
       "      <td>64.699997</td>\n",
       "      <td>63.200001</td>\n",
       "      <td>64.430000</td>\n",
       "      <td>64.430000</td>\n",
       "      <td>9913000</td>\n",
       "    </tr>\n",
       "    <tr>\n",
       "      <th>2024-04-24</th>\n",
       "      <td>64.110001</td>\n",
       "      <td>65.089996</td>\n",
       "      <td>64.019997</td>\n",
       "      <td>64.839996</td>\n",
       "      <td>64.839996</td>\n",
       "      <td>8189100</td>\n",
       "    </tr>\n",
       "    <tr>\n",
       "      <th>2024-04-25</th>\n",
       "      <td>63.470001</td>\n",
       "      <td>64.400002</td>\n",
       "      <td>62.950001</td>\n",
       "      <td>64.099998</td>\n",
       "      <td>64.099998</td>\n",
       "      <td>11711200</td>\n",
       "    </tr>\n",
       "    <tr>\n",
       "      <th>2024-04-26</th>\n",
       "      <td>64.129997</td>\n",
       "      <td>66.300003</td>\n",
       "      <td>63.750000</td>\n",
       "      <td>65.959999</td>\n",
       "      <td>65.959999</td>\n",
       "      <td>11963500</td>\n",
       "    </tr>\n",
       "  </tbody>\n",
       "</table>\n",
       "</div>"
      ],
      "text/plain": [
       "                 Open       High        Low      Close  Adj Close    Volume\n",
       "Date                                                                       \n",
       "2024-04-22  63.040001  63.634998  62.480000  63.189999  63.189999   9958200\n",
       "2024-04-23  63.380001  64.699997  63.200001  64.430000  64.430000   9913000\n",
       "2024-04-24  64.110001  65.089996  64.019997  64.839996  64.839996   8189100\n",
       "2024-04-25  63.470001  64.400002  62.950001  64.099998  64.099998  11711200\n",
       "2024-04-26  64.129997  66.300003  63.750000  65.959999  65.959999  11963500"
      ]
     },
     "execution_count": 9,
     "metadata": {},
     "output_type": "execute_result"
    }
   ],
   "source": [
    "#!pip install yfinance\n",
    "import yfinance as yf\n",
    "symbol = 'PYPL'\n",
    "\n",
    "#Start and end Date\n",
    "start_date = '2020-01-01'\n",
    "end_date = '2024-04-29'\n",
    "\n",
    "Paypal_stock_df = yf.download(symbol, start= start_date, end= end_date)\n",
    "\n",
    "Paypal_stock_df.tail()\n",
    "\n"
   ]
  },
  {
   "cell_type": "code",
   "execution_count": 15,
   "metadata": {},
   "outputs": [
    {
     "data": {
      "text/plain": [
       "0"
      ]
     },
     "execution_count": 15,
     "metadata": {},
     "output_type": "execute_result"
    }
   ],
   "source": [
    "stock_prices(Paypal_stock_df['Adj Close'], '2021-12-02', '2023-10-02')"
   ]
  },
  {
   "cell_type": "markdown",
   "metadata": {},
   "source": [
    "4. The next permutation of an array of integers is the next lexicographically greater permutation of its integer. Given an array of integers nums, find the next permutation of nums.\n",
    "The replacement must be in place and use only constant extra memory\n"
   ]
  },
  {
   "cell_type": "markdown",
   "metadata": {},
   "source": [
    "1. Write a function that reverses a string. The input string is given as an array of characters s. You must do this by modifying the input array in-place with 0(1) extra memory\n"
   ]
  },
  {
   "cell_type": "code",
   "execution_count": 24,
   "metadata": {},
   "outputs": [
    {
     "data": {
      "text/plain": [
       "'ynorkcaJ'"
      ]
     },
     "execution_count": 24,
     "metadata": {},
     "output_type": "execute_result"
    }
   ],
   "source": [
    "str = 'Jackrony'\n",
    "str_rev = ''.join([str[-i] for i in range(1, len(str)+1)])\n",
    "str_rev"
   ]
  },
  {
   "cell_type": "code",
   "execution_count": 20,
   "metadata": {},
   "outputs": [
    {
     "data": {
      "text/plain": [
       "'y'"
      ]
     },
     "execution_count": 20,
     "metadata": {},
     "output_type": "execute_result"
    }
   ],
   "source": [
    "str[len(str)-1]"
   ]
  },
  {
   "cell_type": "markdown",
   "metadata": {},
   "source": [
    "6. Given a Roman numeral, convert it to an integer"
   ]
  },
  {
   "cell_type": "code",
   "execution_count": 34,
   "metadata": {},
   "outputs": [
    {
     "data": {
      "text/plain": [
       "7"
      ]
     },
     "execution_count": 34,
     "metadata": {},
     "output_type": "execute_result"
    }
   ],
   "source": [
    "import roman\n",
    "def Roman_Int_Conv(R_int):\n",
    "    try:\n",
    "        return roman.fromRoman(R_int)\n",
    "    except roman.InvalidRomanNumeralError:\n",
    "        print(f\"Error: {R_int} is not a valid Roman numeral\") \n",
    "Roman_Int_Conv('VII')"
   ]
  },
  {
   "cell_type": "code",
   "execution_count": null,
   "metadata": {},
   "outputs": [],
   "source": []
  }
 ],
 "metadata": {
  "kernelspec": {
   "display_name": "Python_Dev",
   "language": "python",
   "name": "python3"
  },
  "language_info": {
   "codemirror_mode": {
    "name": "ipython",
    "version": 3
   },
   "file_extension": ".py",
   "mimetype": "text/x-python",
   "name": "python",
   "nbconvert_exporter": "python",
   "pygments_lexer": "ipython3",
   "version": "3.10.13"
  }
 },
 "nbformat": 4,
 "nbformat_minor": 2
}
