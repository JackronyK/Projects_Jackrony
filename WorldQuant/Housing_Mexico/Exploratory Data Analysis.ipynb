{
 "cells": [
  {
   "cell_type": "markdown",
   "metadata": {},
   "source": [
    "### Exploratory Data Analysis"
   ]
  },
  {
   "cell_type": "code",
   "execution_count": 2,
   "metadata": {},
   "outputs": [],
   "source": [
    "## Loading the Packages\n",
    "import pandas as pd\n",
    "import matplotlib.pyplot as plt\n",
    "import scipy as sp\n",
    "import plotly.express as px\n",
    "from IPython.display import VimeoVideo\n"
   ]
  },
  {
   "cell_type": "code",
   "execution_count": null,
   "metadata": {},
   "outputs": [],
   "source": [
    "VimeoVideo(\"656354357\", h=\"8d99bdbfcd\", width=600)"
   ]
  },
  {
   "cell_type": "markdown",
   "metadata": {},
   "source": [
    "#### Importing the Data"
   ]
  },
  {
   "cell_type": "code",
   "execution_count": 5,
   "metadata": {},
   "outputs": [
    {
     "data": {
      "text/html": [
       "<div>\n",
       "<style scoped>\n",
       "    .dataframe tbody tr th:only-of-type {\n",
       "        vertical-align: middle;\n",
       "    }\n",
       "\n",
       "    .dataframe tbody tr th {\n",
       "        vertical-align: top;\n",
       "    }\n",
       "\n",
       "    .dataframe thead th {\n",
       "        text-align: right;\n",
       "    }\n",
       "</style>\n",
       "<table border=\"1\" class=\"dataframe\">\n",
       "  <thead>\n",
       "    <tr style=\"text-align: right;\">\n",
       "      <th></th>\n",
       "      <th>property_type</th>\n",
       "      <th>state</th>\n",
       "      <th>lat</th>\n",
       "      <th>lon</th>\n",
       "      <th>area_m2</th>\n",
       "      <th>price_usd</th>\n",
       "    </tr>\n",
       "  </thead>\n",
       "  <tbody>\n",
       "    <tr>\n",
       "      <th>0</th>\n",
       "      <td>house</td>\n",
       "      <td>Estado de México</td>\n",
       "      <td>19.560181</td>\n",
       "      <td>-99.233528</td>\n",
       "      <td>150</td>\n",
       "      <td>67965.56</td>\n",
       "    </tr>\n",
       "    <tr>\n",
       "      <th>1</th>\n",
       "      <td>house</td>\n",
       "      <td>Nuevo León</td>\n",
       "      <td>25.688436</td>\n",
       "      <td>-100.198807</td>\n",
       "      <td>186</td>\n",
       "      <td>63223.78</td>\n",
       "    </tr>\n",
       "    <tr>\n",
       "      <th>2</th>\n",
       "      <td>apartment</td>\n",
       "      <td>Guerrero</td>\n",
       "      <td>16.767704</td>\n",
       "      <td>-99.764383</td>\n",
       "      <td>82</td>\n",
       "      <td>84298.37</td>\n",
       "    </tr>\n",
       "    <tr>\n",
       "      <th>3</th>\n",
       "      <td>apartment</td>\n",
       "      <td>Guerrero</td>\n",
       "      <td>16.829782</td>\n",
       "      <td>-99.911012</td>\n",
       "      <td>150</td>\n",
       "      <td>94308.80</td>\n",
       "    </tr>\n",
       "    <tr>\n",
       "      <th>4</th>\n",
       "      <td>house</td>\n",
       "      <td>Yucatán</td>\n",
       "      <td>21.052583</td>\n",
       "      <td>-89.538639</td>\n",
       "      <td>205</td>\n",
       "      <td>105191.37</td>\n",
       "    </tr>\n",
       "  </tbody>\n",
       "</table>\n",
       "</div>"
      ],
      "text/plain": [
       "  property_type             state        lat         lon  area_m2  price_usd\n",
       "0         house  Estado de México  19.560181  -99.233528      150   67965.56\n",
       "1         house        Nuevo León  25.688436 -100.198807      186   63223.78\n",
       "2     apartment          Guerrero  16.767704  -99.764383       82   84298.37\n",
       "3     apartment          Guerrero  16.829782  -99.911012      150   94308.80\n",
       "4         house           Yucatán  21.052583  -89.538639      205  105191.37"
      ]
     },
     "execution_count": 5,
     "metadata": {},
     "output_type": "execute_result"
    }
   ],
   "source": [
    "Mexico_df = pd.read_csv('https://raw.githubusercontent.com/JackronyK/Projects_Jackrony/main/WorldQuant/Housing_Mexico/Data/mexico-real-estate-cleaned%20Data.csv')\n",
    "Mexico_df.head()\n"
   ]
  },
  {
   "cell_type": "code",
   "execution_count": 6,
   "metadata": {},
   "outputs": [
    {
     "name": "stdout",
     "output_type": "stream",
     "text": [
      "<class 'pandas.core.frame.DataFrame'>\n",
      "RangeIndex: 1736 entries, 0 to 1735\n",
      "Data columns (total 6 columns):\n",
      " #   Column         Non-Null Count  Dtype  \n",
      "---  ------         --------------  -----  \n",
      " 0   property_type  1736 non-null   object \n",
      " 1   state          1736 non-null   object \n",
      " 2   lat            1736 non-null   float64\n",
      " 3   lon            1736 non-null   float64\n",
      " 4   area_m2        1736 non-null   int64  \n",
      " 5   price_usd      1736 non-null   float64\n",
      "dtypes: float64(3), int64(1), object(2)\n",
      "memory usage: 81.5+ KB\n"
     ]
    }
   ],
   "source": [
    "Mexico_df.info()"
   ]
  },
  {
   "cell_type": "markdown",
   "metadata": {},
   "source": [
    "#### Loaction Data 'Lat' and 'lon'\n",
    "\n",
    "We will Visualize the lat and lon Columns using `scatter_mapbox` from plotly library"
   ]
  },
  {
   "cell_type": "code",
   "execution_count": 14,
   "metadata": {},
   "outputs": [
    {
     "data": {
      "application/vnd.plotly.v1+json": {
       "config": {
        "plotlyServerURL": "https://plot.ly"
       },
       "data": [
        {
         "customdata": [
          [
           131716.2,
           "Distrito Federal"
          ],
          [
           264390.77,
           "Distrito Federal"
          ],
          [
           131716.2,
           "Distrito Federal"
          ],
          [
           67175.26,
           "Distrito Federal"
          ],
          [
           104846.1,
           "Distrito Federal"
          ],
          [
           120125.18,
           "Distrito Federal"
          ],
          [
           126447.56,
           "Distrito Federal"
          ],
          [
           247626.47,
           "Distrito Federal"
          ],
          [
           86300.46,
           "Distrito Federal"
          ],
          [
           44794.13,
           "Distrito Federal"
          ],
          [
           150719.07,
           "Distrito Federal"
          ],
          [
           237089.17,
           "Distrito Federal"
          ],
          [
           35563.37,
           "Distrito Federal"
          ],
          [
           207057.88,
           "Distrito Federal"
          ],
          [
           118386.52,
           "Distrito Federal"
          ],
          [
           126447.56,
           "Distrito Federal"
          ],
          [
           142253.5,
           "Distrito Federal"
          ],
          [
           189716.32,
           "Distrito Federal"
          ],
          [
           176499.72,
           "Distrito Federal"
          ],
          [
           137017.34,
           "Distrito Federal"
          ],
          [
           78502.86,
           "Distrito Federal"
          ],
          [
           197100.13,
           "Distrito Federal"
          ],
          [
           116173.69,
           "Distrito Federal"
          ],
          [
           230874.8,
           "Distrito Federal"
          ],
          [
           79029.72,
           "Distrito Federal"
          ],
          [
           120652.04,
           "Distrito Federal"
          ],
          [
           87703.06,
           "Distrito Federal"
          ],
          [
           259470.39,
           "Distrito Federal"
          ],
          [
           237089.17,
           "Distrito Federal"
          ],
          [
           110050.31,
           "Distrito Federal"
          ],
          [
           73234.21,
           "Distrito Federal"
          ],
          [
           90115.25,
           "Distrito Federal"
          ],
          [
           84825.23,
           "Distrito Federal"
          ],
          [
           217911.29,
           "Distrito Federal"
          ],
          [
           42676.05,
           "Distrito Federal"
          ],
          [
           46890.97,
           "Distrito Federal"
          ],
          [
           106848.18,
           "Distrito Federal"
          ],
          [
           93255.07,
           "Distrito Federal"
          ],
          [
           64281.19,
           "Distrito Federal"
          ],
          [
           37386.32,
           "Distrito Federal"
          ],
          [
           123981.3,
           "Distrito Federal"
          ],
          [
           56514.99,
           "Distrito Federal"
          ],
          [
           270872.74,
           "Distrito Federal"
          ],
          [
           139652.29,
           "Distrito Federal"
          ],
          [
           246994.23,
           "Distrito Federal"
          ],
          [
           36269.27,
           "Distrito Federal"
          ],
          [
           50087.3,
           "Distrito Federal"
          ],
          [
           274034.68,
           "Distrito Federal"
          ],
          [
           312957.71,
           "Distrito Federal"
          ],
          [
           34077.61,
           "Distrito Federal"
          ],
          [
           263494.89,
           "Distrito Federal"
          ],
          [
           209902.95,
           "Distrito Federal"
          ],
          [
           284507.01,
           "Distrito Federal"
          ],
          [
           156958.3,
           "Distrito Federal"
          ],
          [
           109387.67,
           "Distrito Federal"
          ],
          [
           91042.24,
           "Distrito Federal"
          ],
          [
           93465.82,
           "Distrito Federal"
          ],
          [
           210745.93,
           "Distrito Federal"
          ],
          [
           75375.18,
           "Distrito Federal"
          ],
          [
           136405.3,
           "Distrito Federal"
          ],
          [
           135085.08,
           "Distrito Federal"
          ],
          [
           273969.71,
           "Distrito Federal"
          ],
          [
           66911.83,
           "Distrito Federal"
          ],
          [
           121355.2,
           "Distrito Federal"
          ],
          [
           74920.17,
           "Distrito Federal"
          ],
          [
           176541.57,
           "Distrito Federal"
          ],
          [
           40645.77,
           "Distrito Federal"
          ],
          [
           315618.38,
           "Distrito Federal"
          ],
          [
           135430.6,
           "Distrito Federal"
          ],
          [
           174140.42,
           "Distrito Federal"
          ],
          [
           183989.52,
           "Distrito Federal"
          ],
          [
           179134.04,
           "Distrito Federal"
          ],
          [
           209692.2,
           "Distrito Federal"
          ],
          [
           180187.77,
           "Distrito Federal"
          ],
          [
           40041.72,
           "Distrito Federal"
          ],
          [
           147557.13,
           "Distrito Federal"
          ],
          [
           224660.17,
           "Distrito Federal"
          ],
          [
           98523.72,
           "Distrito Federal"
          ],
          [
           80635.87,
           "Distrito Federal"
          ],
          [
           306635.33,
           "Distrito Federal"
          ],
          [
           50064.02,
           "Distrito Federal"
          ],
          [
           39946.36,
           "Distrito Federal"
          ],
          [
           144887.83,
           "Distrito Federal"
          ],
          [
           51393.55,
           "Distrito Federal"
          ],
          [
           84318.36,
           "Distrito Federal"
          ],
          [
           218648.9,
           "Distrito Federal"
          ],
          [
           131768.89,
           "Distrito Federal"
          ],
          [
           42676.05,
           "Distrito Federal"
          ],
          [
           150683.34,
           "Distrito Federal"
          ],
          [
           76395.4,
           "Distrito Federal"
          ],
          [
           177695.7,
           "Distrito Federal"
          ],
          [
           113302.8,
           "Distrito Federal"
          ],
          [
           123813.23,
           "Distrito Federal"
          ],
          [
           84318.36,
           "Distrito Federal"
          ],
          [
           40568.59,
           "Distrito Federal"
          ],
          [
           94858.16,
           "Distrito Federal"
          ],
          [
           68070.93,
           "Distrito Federal"
          ],
          [
           147522.15,
           "Distrito Federal"
          ],
          [
           161826.53,
           "Distrito Federal"
          ],
          [
           102738.64,
           "Distrito Federal"
          ],
          [
           68492.42,
           "Distrito Federal"
          ],
          [
           112402.96,
           "Distrito Federal"
          ],
          [
           197146.87,
           "Distrito Federal"
          ],
          [
           183989.47,
           "Distrito Federal"
          ],
          [
           77572.89,
           "Distrito Federal"
          ],
          [
           39904.73684210526,
           "Distrito Federal"
          ],
          [
           157368.42105263157,
           "Distrito Federal"
          ],
          [
           184210.52631578947,
           "Distrito Federal"
          ],
          [
           35841.57894736842,
           "Distrito Federal"
          ],
          [
           130842.1052631579,
           "Distrito Federal"
          ],
          [
           124210.52631578948,
           "Distrito Federal"
          ],
          [
           46280.68421052631,
           "Distrito Federal"
          ],
          [
           201061.2105263158,
           "Distrito Federal"
          ],
          [
           279193.5789473684,
           "Distrito Federal"
          ],
          [
           236842.1052631579,
           "Distrito Federal"
          ],
          [
           78189.47368421052,
           "Distrito Federal"
          ],
          [
           289421.05263157893,
           "Distrito Federal"
          ],
          [
           233473.68421052632,
           "Distrito Federal"
          ],
          [
           231478.94736842104,
           "Distrito Federal"
          ],
          [
           229400,
           "Distrito Federal"
          ],
          [
           263157.8947368421,
           "Distrito Federal"
          ],
          [
           90014.94736842105,
           "Distrito Federal"
          ],
          [
           209311.05263157896,
           "Distrito Federal"
          ],
          [
           52631.57894736842,
           "Distrito Federal"
          ],
          [
           314736.84210526315,
           "Distrito Federal"
          ],
          [
           122419.26315789472,
           "Distrito Federal"
          ],
          [
           53102.78947368421,
           "Distrito Federal"
          ],
          [
           47631.57894736842,
           "Distrito Federal"
          ],
          [
           173421.05263157896,
           "Distrito Federal"
          ],
          [
           89210.52631578948,
           "Distrito Federal"
          ],
          [
           225263.15789473685,
           "Distrito Federal"
          ],
          [
           147368.42105263157,
           "Distrito Federal"
          ],
          [
           106736.84210526316,
           "Distrito Federal"
          ],
          [
           116403.57894736844,
           "Distrito Federal"
          ],
          [
           236842.1052631579,
           "Distrito Federal"
          ],
          [
           77894.73684210527,
           "Distrito Federal"
          ],
          [
           147631.57894736843,
           "Distrito Federal"
          ],
          [
           157489.47368421053,
           "Distrito Federal"
          ],
          [
           97678.94736842104,
           "Distrito Federal"
          ],
          [
           94210.52631578948,
           "Distrito Federal"
          ],
          [
           165789.47368421053,
           "Distrito Federal"
          ],
          [
           244736.84210526315,
           "Distrito Federal"
          ],
          [
           230842.1052631579,
           "Distrito Federal"
          ],
          [
           141052.63157894736,
           "Distrito Federal"
          ],
          [
           236842.1052631579,
           "Distrito Federal"
          ],
          [
           101157.8947368421,
           "Distrito Federal"
          ],
          [
           36421.05263157895,
           "Distrito Federal"
          ],
          [
           110000,
           "Distrito Federal"
          ],
          [
           68157.8947368421,
           "Distrito Federal"
          ],
          [
           171949.05263157896,
           "Distrito Federal"
          ],
          [
           71052.63157894737,
           "Distrito Federal"
          ],
          [
           52428.26315789474,
           "Distrito Federal"
          ],
          [
           205263.15789473685,
           "Distrito Federal"
          ],
          [
           78947.36842105263,
           "Distrito Federal"
          ],
          [
           118421.05263157896,
           "Distrito Federal"
          ],
          [
           77089.47368421052,
           "Distrito Federal"
          ],
          [
           103684.2105263158,
           "Distrito Federal"
          ],
          [
           175368.42105263157,
           "Distrito Federal"
          ],
          [
           93368.42105263156,
           "Distrito Federal"
          ],
          [
           121052.63157894736,
           "Distrito Federal"
          ],
          [
           139473.68421052632,
           "Distrito Federal"
          ],
          [
           107894.73684210528,
           "Distrito Federal"
          ],
          [
           150000,
           "Distrito Federal"
          ],
          [
           184210.52631578947,
           "Distrito Federal"
          ],
          [
           91052.63157894736,
           "Distrito Federal"
          ],
          [
           36000,
           "Distrito Federal"
          ],
          [
           171578.94736842104,
           "Distrito Federal"
          ],
          [
           61242.10526315789,
           "Distrito Federal"
          ],
          [
           120000,
           "Distrito Federal"
          ],
          [
           241060.52631578947,
           "Distrito Federal"
          ],
          [
           52631.57894736842,
           "Distrito Federal"
          ],
          [
           109210.52631578948,
           "Distrito Federal"
          ],
          [
           152631.57894736843,
           "Distrito Federal"
          ],
          [
           176315.7894736842,
           "Distrito Federal"
          ],
          [
           78947.36842105263,
           "Distrito Federal"
          ],
          [
           65789.47368421052,
           "Distrito Federal"
          ],
          [
           273684.2105263158,
           "Distrito Federal"
          ],
          [
           45789.47368421053,
           "Distrito Federal"
          ],
          [
           56571.15789473684,
           "Distrito Federal"
          ],
          [
           95343.42105263156,
           "Distrito Federal"
          ],
          [
           263157.8947368421,
           "Distrito Federal"
          ],
          [
           244736.84210526315,
           "Distrito Federal"
          ],
          [
           225263.15789473685,
           "Distrito Federal"
          ],
          [
           79953.94736842105,
           "Distrito Federal"
          ],
          [
           289473.6842105263,
           "Distrito Federal"
          ],
          [
           106736.84210526316,
           "Distrito Federal"
          ],
          [
           40593.78947368421,
           "Distrito Federal"
          ],
          [
           238684.2105263158,
           "Distrito Federal"
          ],
          [
           86842.1052631579,
           "Distrito Federal"
          ],
          [
           66842.1052631579,
           "Distrito Federal"
          ],
          [
           178447.36842105264,
           "Distrito Federal"
          ],
          [
           79342.1052631579,
           "Distrito Federal"
          ],
          [
           91052.63157894736,
           "Distrito Federal"
          ],
          [
           131578.94736842104,
           "Distrito Federal"
          ],
          [
           176327.36842105264,
           "Distrito Federal"
          ],
          [
           134210.52631578947,
           "Distrito Federal"
          ],
          [
           102263.15789473684,
           "Distrito Federal"
          ],
          [
           48550.59,
           "Distrito Federal"
          ],
          [
           50052.15,
           "Distrito Federal"
          ],
          [
           51076.22,
           "Distrito Federal"
          ],
          [
           34246.21,
           "Distrito Federal"
          ],
          [
           100104.31,
           "Distrito Federal"
          ],
          [
           65633.66,
           "Distrito Federal"
          ],
          [
           79443.7,
           "Distrito Federal"
          ],
          [
           50942.31,
           "Distrito Federal"
          ],
          [
           273969.71,
           "Distrito Federal"
          ],
          [
           157532.58,
           "Distrito Federal"
          ],
          [
           56689.55,
           "Distrito Federal"
          ],
          [
           142253.5,
           "Distrito Federal"
          ],
          [
           103370.88,
           "Distrito Federal"
          ],
          [
           242357.82,
           "Distrito Federal"
          ],
          [
           53158.13,
           "Distrito Federal"
          ],
          [
           162801.23,
           "Distrito Federal"
          ],
          [
           132559.19,
           "Distrito Federal"
          ],
          [
           52574.87,
           "Distrito Federal"
          ],
          [
           89430.16,
           "Distrito Federal"
          ],
          [
           177267.41,
           "Distrito Federal"
          ],
          [
           79029.72,
           "Distrito Federal"
          ],
          [
           68492.42,
           "Distrito Federal"
          ],
          [
           149629.61,
           "Distrito Federal"
          ],
          [
           85949.19,
           "Distrito Federal"
          ],
          [
           222924.2,
           "Distrito Federal"
          ],
          [
           138598.31,
           "Distrito Federal"
          ],
          [
           136405.3,
           "Distrito Federal"
          ],
          [
           141199.77,
           "Distrito Federal"
          ],
          [
           46943.65,
           "Distrito Federal"
          ],
          [
           173906.62,
           "Distrito Federal"
          ],
          [
           147522.15,
           "Distrito Federal"
          ],
          [
           41680.96,
           "Distrito Federal"
          ],
          [
           257531.53,
           "Distrito Federal"
          ],
          [
           154987.69,
           "Distrito Federal"
          ],
          [
           107322.36,
           "Distrito Federal"
          ],
          [
           49999.47,
           "Distrito Federal"
          ],
          [
           41095.45,
           "Distrito Federal"
          ],
          [
           49051.11,
           "Distrito Federal"
          ],
          [
           121178.91,
           "Distrito Federal"
          ],
          [
           59426.13,
           "Distrito Federal"
          ],
          [
           91411.04,
           "Distrito Federal"
          ],
          [
           187081.37,
           "Distrito Federal"
          ],
          [
           66911.83,
           "Distrito Federal"
          ],
          [
           40645.77,
           "Distrito Federal"
          ],
          [
           38812.39,
           "Distrito Federal"
          ],
          [
           228450.07,
           "Distrito Federal"
          ],
          [
           34421.81,
           "Distrito Federal"
          ],
          [
           131716.2,
           "Distrito Federal"
          ],
          [
           68492.42,
           "Distrito Federal"
          ],
          [
           79029.72,
           "Distrito Federal"
          ],
          [
           36882.11,
           "Distrito Federal"
          ],
          [
           207057.88,
           "Distrito Federal"
          ],
          [
           85899.33,
           "Distrito Federal"
          ],
          [
           260798.09,
           "Distrito Federal"
          ],
          [
           57287.8,
           "Distrito Federal"
          ],
          [
           119651,
           "Distrito Federal"
          ],
          [
           183875.82,
           "Distrito Federal"
          ],
          [
           76740.25,
           "Distrito Federal"
          ],
          [
           131400.09,
           "Distrito Federal"
          ],
          [
           142253.5,
           "Distrito Federal"
          ],
          [
           215482.45,
           "Distrito Federal"
          ],
          [
           84298.37,
           "Distrito Federal"
          ],
          [
           179239.41,
           "Distrito Federal"
          ],
          [
           46715.31,
           "Distrito Federal"
          ],
          [
           53158.18,
           "Distrito Federal"
          ],
          [
           76395.4,
           "Distrito Federal"
          ],
          [
           34983.82,
           "Distrito Federal"
          ],
          [
           49273.54,
           "Distrito Federal"
          ],
          [
           102369.83,
           "Distrito Federal"
          ],
          [
           94835.67,
           "Distrito Federal"
          ],
          [
           135225.12,
           "Distrito Federal"
          ],
          [
           123813.23,
           "Distrito Federal"
          ],
          [
           50591.01,
           "Distrito Federal"
          ],
          [
           115910.26,
           "Distrito Federal"
          ],
          [
           100104.31,
           "Distrito Federal"
          ],
          [
           161258.87,
           "Distrito Federal"
          ],
          [
           289775.66,
           "Distrito Federal"
          ],
          [
           44048.85,
           "Distrito Federal"
          ],
          [
           154898.26,
           "Distrito Federal"
          ],
          [
           177695.7,
           "Distrito Federal"
          ],
          [
           137017.34,
           "Distrito Federal"
          ],
          [
           35890.24,
           "Distrito Federal"
          ],
          [
           150830.86,
           "Distrito Federal"
          ],
          [
           106127.01,
           "Distrito Federal"
          ],
          [
           45057.62,
           "Distrito Federal"
          ],
          [
           53832.41,
           "Distrito Federal"
          ],
          [
           71653.61,
           "Distrito Federal"
          ],
          [
           131716.2,
           "Distrito Federal"
          ],
          [
           54235.15,
           "Distrito Federal"
          ],
          [
           115910.26,
           "Distrito Federal"
          ],
          [
           44178.77,
           "Distrito Federal"
          ],
          [
           152790.8,
           "Distrito Federal"
          ],
          [
           67438.69,
           "Distrito Federal"
          ],
          [
           85668.22,
           "Distrito Federal"
          ],
          [
           81683.41,
           "Distrito Federal"
          ],
          [
           163064.66,
           "Distrito Federal"
          ],
          [
           167543.01,
           "Distrito Federal"
          ],
          [
           289775.66,
           "Distrito Federal"
          ],
          [
           159320.71,
           "Distrito Federal"
          ],
          [
           157690.64,
           "Distrito Federal"
          ],
          [
           84845.35,
           "Distrito Federal"
          ],
          [
           65120.49,
           "Distrito Federal"
          ],
          [
           71653.61,
           "Distrito Federal"
          ],
          [
           105372.96,
           "Distrito Federal"
          ],
          [
           36260.68,
           "Distrito Federal"
          ],
          [
           121863.83,
           "Distrito Federal"
          ]
         ],
         "hovertemplate": "lat=%{lat}<br>lon=%{lon}<br>price_usd=%{customdata[0]}<br>state=%{customdata[1]}<extra></extra>",
         "lat": [
          19.390748,
          19.337652,
          19.403334,
          19.428152,
          19.430141,
          19.39365,
          19.390301,
          19.3605334,
          19.351369,
          19.412142,
          19.374069,
          19.33923,
          19.351371,
          19.298899,
          19.374421,
          19.499857,
          19.381729,
          19.384533,
          19.317922,
          19.38250406,
          19.401819,
          19.380937,
          19.367215,
          19.411699,
          19.428152,
          19.367931,
          19.360526,
          19.464398,
          19.351396,
          19.396669,
          19.452331,
          19.342083,
          19.395069,
          19.400004,
          19.449392,
          19.486255,
          19.36594,
          19.364613,
          19.366505,
          19.354947,
          19.371317,
          19.377169,
          19.381591,
          19.3650311,
          19.399375,
          19.452689,
          19.336104,
          19.3987957,
          19.3928136,
          19.375374,
          19.409369,
          19.404032,
          19.368544,
          19.341894,
          19.366901,
          19.473907,
          19.371321,
          19.362824,
          19.465454,
          19.353288,
          19.432657,
          19.400249,
          19.451872,
          19.45569471,
          19.336195,
          19.469688,
          19.27112369,
          19.355938,
          19.373264,
          19.383952,
          19.396018,
          19.333901,
          19.390031,
          19.365834,
          19.474655,
          19.3499358,
          19.406592,
          19.318989,
          19.472481,
          19.325355,
          19.474655,
          19.396502,
          19.2826778,
          19.48888,
          19.364891,
          19.426528,
          19.434723,
          19.449392,
          19.365175,
          19.478815,
          19.298168,
          19.3880398,
          19.328833,
          19.455385,
          19.36243,
          19.390062,
          19.400731,
          19.33923,
          19.365383,
          19.463009,
          19.33427,
          19.499434,
          19.380937,
          19.396018,
          19.309208,
          19.394558,
          19.3261963,
          19.367239,
          19.473001,
          19.271467,
          19.289286,
          19.444924,
          19.378482,
          19.3934457,
          19.436024,
          19.378009,
          19.416294,
          19.376822,
          19.433274,
          19.394358,
          19.2753576,
          19.436404,
          19.4034054,
          19.453142,
          19.3434214,
          19.473623,
          19.395097,
          19.305233,
          19.2753576,
          19.346687,
          19.405298,
          19.258038,
          19.377171,
          19.401509,
          19.347683,
          19.375374,
          19.52395,
          19.39365,
          19.34189,
          19.383512,
          19.367025,
          19.3418937,
          19.353592,
          19.471368,
          19.414261,
          19.358008,
          19.415143,
          19.285162,
          19.35782,
          19.342911,
          19.474885,
          19.303392,
          19.399652,
          19.482603,
          19.500286,
          19.366935,
          19.313719,
          19.39912,
          19.40012,
          19.340305,
          19.35743172,
          19.325944,
          19.322523,
          19.317675,
          19.401507,
          19.474285,
          19.335116,
          19.402944,
          19.399815,
          19.403334,
          19.48778,
          19.3176966,
          19.352431,
          19.317653,
          23.634501,
          19.3651763,
          19.400249,
          19.480501,
          19.372248,
          19.280767,
          19.389791,
          19.314545,
          19.405298,
          19.34016,
          19.41498,
          19.377171,
          19.2790911,
          19.443178,
          19.30102797,
          19.451872,
          19.3819271,
          19.385989,
          19.401507,
          19.475765,
          19.383952,
          19.3870644,
          19.472128,
          19.52589,
          19.443178,
          19.396593,
          19.524143,
          19.386959,
          19.403334,
          19.378533,
          19.387613,
          19.413079,
          19.410826,
          19.428767,
          19.2790911,
          19.302422,
          19.343664,
          19.395097,
          19.410632,
          19.275725,
          19.342083,
          19.368553,
          19.427607,
          19.460046,
          19.343424,
          19.368475,
          19.285891,
          19.392302,
          19.2925929444,
          19.353288,
          19.510133,
          19.345528,
          19.40112,
          19.33923,
          19.444723,
          19.403597,
          19.394073,
          19.305984,
          19.361792,
          19.417636,
          19.446256,
          19.333974,
          19.445032,
          19.377404,
          19.336697,
          19.451872,
          19.2790911,
          19.493713,
          19.345431,
          19.452665,
          19.359798,
          19.3434226,
          19.4503249,
          19.307417,
          19.301835,
          19.396893,
          19.33981,
          19.399741,
          19.282308,
          19.456544,
          19.396705,
          19.270165,
          19.39912,
          19.376589,
          19.373161,
          19.493973,
          19.362795,
          19.395097,
          19.478815,
          19.51918,
          19.326108,
          19.483263,
          23.634501,
          19.299864,
          19.384724,
          19.454332,
          19.368808,
          19.38342,
          19.380834,
          19.413009,
          19.410215,
          19.367424,
          19.298168,
          19.440043,
          19.41275,
          19.364891,
          19.353373,
          19.508428,
          19.454332,
          19.393257,
          19.462951,
          19.403794,
          19.343424,
          19.382649,
          23.634501,
          19.401507,
          19.381078,
          19.3845016369,
          19.446829,
          19.343042,
          19.394358,
          19.287568,
          19.477827,
          19.393656,
          19.441809,
          19.391819,
          19.375412,
          19.496076,
          19.309196
         ],
         "legendgroup": "",
         "lon": [
          -99.158695,
          -99.2233268,
          -99.157755,
          -99.106194,
          -99.172536,
          -99.14769,
          -99.11161,
          -99.2267067,
          -99.248993,
          -99.146127,
          -99.01932,
          -99.218987,
          -99.161529,
          -99.208048,
          -99.13907,
          -99.097517,
          -99.164986,
          -99.183172,
          -99.236124,
          -99.15803991,
          -99.184615,
          -99.179545,
          -99.222138,
          -99.166247,
          -99.106194,
          -99.170262,
          -99.301674,
          -99.113317,
          -99.130999,
          -99.067626,
          -99.177162,
          -99.0532159,
          -99.204927,
          -99.16735,
          -99.138544,
          -99.214043,
          -99.163153,
          -99.161892,
          -99.222297,
          -99.087529,
          -99.140957,
          -99.187643,
          -99.165397,
          -99.1477363,
          -99.149986,
          -99.117987,
          -99.101761,
          -99.1594498,
          -99.1738213,
          -99.137657,
          -99.171906,
          -99.179694,
          -99.163605,
          -99.224525,
          -99.297272,
          -99.177444,
          -99.140985,
          -99.266178,
          -99.162665,
          -99.244721,
          -99.177444,
          -99.177444,
          -99.173522,
          -99.16357613,
          -99.23692,
          -99.085456,
          -99.20883894,
          -99.129918,
          -99.104161,
          -99.160229,
          -99.147827,
          -99.240356,
          -99.174182,
          -99.263505,
          -99.189277,
          -99.2906864,
          -99.155442,
          -99.094437,
          -99.182374,
          -99.232561,
          -99.189277,
          -99.128797,
          -99.2090757,
          -99.179278,
          -99.148384,
          -99.196279,
          -99.175887,
          -99.138544,
          -99.230064,
          -99.196831,
          -99.113106,
          -99.1695793,
          -99.133163,
          -99.209835,
          -99.176957,
          -99.192293,
          -99.125466,
          -99.218987,
          -99.16507,
          -99.131106,
          -99.083374,
          -99.111916,
          -99.179545,
          -99.147827,
          -99.171906,
          -99.129707,
          -99.14058611,
          -99.186126,
          -99.087491,
          -99.146309,
          -99.158066,
          -99.139843,
          -99.220795,
          -99.1796926,
          -99.15461,
          -99.193543,
          -99.16748,
          -99.174675,
          -99.210758,
          -99.177444,
          -99.1675547,
          -99.173617,
          -99.1825418,
          -99.180214,
          -99.1294848,
          -99.124863,
          -99.150424,
          -99.12269,
          -99.1675547,
          -99.011513,
          -99.164986,
          -99.161589,
          -99.188503,
          -99.154034,
          -99.165877,
          -99.137657,
          -99.152881,
          -99.14769,
          -99.166374,
          -99.084804,
          -99.170349,
          -99.2245237,
          -99.177275,
          -99.08649,
          -99.104118,
          -99.127094,
          -99.14685,
          -99.194185,
          -99.149406,
          -99.224472,
          -99.188231,
          -99.243225,
          -99.16127,
          -99.194748,
          -99.122093,
          -99.077541,
          -99.231792,
          -99.141464,
          -99.1532,
          -99.214455,
          -99.28732574,
          -99.098311,
          -99.141464,
          -99.09318,
          -99.14682,
          -99.084981,
          -99.223332,
          -99.199727,
          -99.150806,
          -99.157755,
          -99.110583,
          -99.0612554,
          -99.288369,
          -99.236291,
          -102.552788,
          -99.2300641,
          -99.177444,
          -99.178139,
          -99.133377,
          -99.033615,
          -99.164696,
          -99.140672,
          -99.164986,
          -99.194081,
          -99.177444,
          -99.188503,
          -99.2114234,
          -99.20237,
          -99.14421916,
          -99.173522,
          -99.1891539,
          -99.186285,
          -99.14682,
          -99.145,
          -99.160229,
          -99.0362059,
          -99.146697,
          -99.151703,
          -99.144234,
          -99.133163,
          -99.160149,
          -99.219492,
          -99.145021,
          -99.187561,
          -99.202726,
          -99.174228,
          -99.143757,
          -99.1459,
          -99.2114234,
          -99.230829,
          -99.212308,
          -99.150424,
          -99.13847,
          -99.129684,
          -99.0532159,
          -99.178235,
          -99.160835,
          -99.140495,
          -99.135933,
          -99.17952,
          -99.108269,
          -99.154385,
          -99.1806221008,
          -99.244721,
          -99.100025,
          -99.189906,
          -99.06707,
          -99.218987,
          -99.186447,
          -99.149771,
          -99.153915,
          -99.127341,
          -99.190096,
          -99.153292,
          -99.147767,
          -99.240363,
          -99.140207,
          -99.193301,
          -99.152534,
          -99.173522,
          -99.2114234,
          -99.204941,
          -99.209949,
          -99.121497,
          -99.161675,
          -99.1359301,
          -99.1351802,
          -99.125191,
          -99.206377,
          -99.152302,
          -99.216052,
          -99.115503,
          -99.126869,
          -99.127136,
          -99.181902,
          -99.152404,
          -99.141464,
          -99.153107,
          -99.130394,
          -99.130394,
          -99.218987,
          -99.150424,
          -99.196831,
          -99.143403,
          -99.122758,
          -99.186297,
          -102.552788,
          -99.111133,
          -99.145619,
          -99.200287,
          -99.112954,
          -99.086604,
          -99.200764,
          -99.17109,
          -99.14595,
          -99.185753,
          -99.113106,
          -99.176894,
          -99.126007,
          -99.148384,
          -99.1138,
          -99.125896,
          -99.200287,
          -99.157113,
          -99.125888,
          -99.155899,
          -99.135933,
          -99.143384,
          -102.552788,
          -99.14682,
          -99.186714,
          -99.0904824436,
          -99.159454,
          -99.054777,
          -99.177444,
          -99.145853,
          -99.216217,
          -99.132304,
          -99.156423,
          -99.188639,
          -99.144234,
          -99.204251,
          -99.219505
         ],
         "marker": {
          "color": "#636efa"
         },
         "mode": "markers",
         "name": "",
         "showlegend": false,
         "subplot": "mapbox",
         "type": "scattermapbox"
        }
       ],
       "layout": {
        "height": 600,
        "legend": {
         "tracegroupgap": 0
        },
        "mapbox": {
         "center": {
          "lat": 19.43,
          "lon": -99.13
         },
         "domain": {
          "x": [
           0,
           1
          ],
          "y": [
           0,
           1
          ]
         },
         "style": "open-street-map",
         "zoom": 8
        },
        "margin": {
         "t": 60
        },
        "template": {
         "data": {
          "bar": [
           {
            "error_x": {
             "color": "#2a3f5f"
            },
            "error_y": {
             "color": "#2a3f5f"
            },
            "marker": {
             "line": {
              "color": "#E5ECF6",
              "width": 0.5
             },
             "pattern": {
              "fillmode": "overlay",
              "size": 10,
              "solidity": 0.2
             }
            },
            "type": "bar"
           }
          ],
          "barpolar": [
           {
            "marker": {
             "line": {
              "color": "#E5ECF6",
              "width": 0.5
             },
             "pattern": {
              "fillmode": "overlay",
              "size": 10,
              "solidity": 0.2
             }
            },
            "type": "barpolar"
           }
          ],
          "carpet": [
           {
            "aaxis": {
             "endlinecolor": "#2a3f5f",
             "gridcolor": "white",
             "linecolor": "white",
             "minorgridcolor": "white",
             "startlinecolor": "#2a3f5f"
            },
            "baxis": {
             "endlinecolor": "#2a3f5f",
             "gridcolor": "white",
             "linecolor": "white",
             "minorgridcolor": "white",
             "startlinecolor": "#2a3f5f"
            },
            "type": "carpet"
           }
          ],
          "choropleth": [
           {
            "colorbar": {
             "outlinewidth": 0,
             "ticks": ""
            },
            "type": "choropleth"
           }
          ],
          "contour": [
           {
            "colorbar": {
             "outlinewidth": 0,
             "ticks": ""
            },
            "colorscale": [
             [
              0,
              "#0d0887"
             ],
             [
              0.1111111111111111,
              "#46039f"
             ],
             [
              0.2222222222222222,
              "#7201a8"
             ],
             [
              0.3333333333333333,
              "#9c179e"
             ],
             [
              0.4444444444444444,
              "#bd3786"
             ],
             [
              0.5555555555555556,
              "#d8576b"
             ],
             [
              0.6666666666666666,
              "#ed7953"
             ],
             [
              0.7777777777777778,
              "#fb9f3a"
             ],
             [
              0.8888888888888888,
              "#fdca26"
             ],
             [
              1,
              "#f0f921"
             ]
            ],
            "type": "contour"
           }
          ],
          "contourcarpet": [
           {
            "colorbar": {
             "outlinewidth": 0,
             "ticks": ""
            },
            "type": "contourcarpet"
           }
          ],
          "heatmap": [
           {
            "colorbar": {
             "outlinewidth": 0,
             "ticks": ""
            },
            "colorscale": [
             [
              0,
              "#0d0887"
             ],
             [
              0.1111111111111111,
              "#46039f"
             ],
             [
              0.2222222222222222,
              "#7201a8"
             ],
             [
              0.3333333333333333,
              "#9c179e"
             ],
             [
              0.4444444444444444,
              "#bd3786"
             ],
             [
              0.5555555555555556,
              "#d8576b"
             ],
             [
              0.6666666666666666,
              "#ed7953"
             ],
             [
              0.7777777777777778,
              "#fb9f3a"
             ],
             [
              0.8888888888888888,
              "#fdca26"
             ],
             [
              1,
              "#f0f921"
             ]
            ],
            "type": "heatmap"
           }
          ],
          "heatmapgl": [
           {
            "colorbar": {
             "outlinewidth": 0,
             "ticks": ""
            },
            "colorscale": [
             [
              0,
              "#0d0887"
             ],
             [
              0.1111111111111111,
              "#46039f"
             ],
             [
              0.2222222222222222,
              "#7201a8"
             ],
             [
              0.3333333333333333,
              "#9c179e"
             ],
             [
              0.4444444444444444,
              "#bd3786"
             ],
             [
              0.5555555555555556,
              "#d8576b"
             ],
             [
              0.6666666666666666,
              "#ed7953"
             ],
             [
              0.7777777777777778,
              "#fb9f3a"
             ],
             [
              0.8888888888888888,
              "#fdca26"
             ],
             [
              1,
              "#f0f921"
             ]
            ],
            "type": "heatmapgl"
           }
          ],
          "histogram": [
           {
            "marker": {
             "pattern": {
              "fillmode": "overlay",
              "size": 10,
              "solidity": 0.2
             }
            },
            "type": "histogram"
           }
          ],
          "histogram2d": [
           {
            "colorbar": {
             "outlinewidth": 0,
             "ticks": ""
            },
            "colorscale": [
             [
              0,
              "#0d0887"
             ],
             [
              0.1111111111111111,
              "#46039f"
             ],
             [
              0.2222222222222222,
              "#7201a8"
             ],
             [
              0.3333333333333333,
              "#9c179e"
             ],
             [
              0.4444444444444444,
              "#bd3786"
             ],
             [
              0.5555555555555556,
              "#d8576b"
             ],
             [
              0.6666666666666666,
              "#ed7953"
             ],
             [
              0.7777777777777778,
              "#fb9f3a"
             ],
             [
              0.8888888888888888,
              "#fdca26"
             ],
             [
              1,
              "#f0f921"
             ]
            ],
            "type": "histogram2d"
           }
          ],
          "histogram2dcontour": [
           {
            "colorbar": {
             "outlinewidth": 0,
             "ticks": ""
            },
            "colorscale": [
             [
              0,
              "#0d0887"
             ],
             [
              0.1111111111111111,
              "#46039f"
             ],
             [
              0.2222222222222222,
              "#7201a8"
             ],
             [
              0.3333333333333333,
              "#9c179e"
             ],
             [
              0.4444444444444444,
              "#bd3786"
             ],
             [
              0.5555555555555556,
              "#d8576b"
             ],
             [
              0.6666666666666666,
              "#ed7953"
             ],
             [
              0.7777777777777778,
              "#fb9f3a"
             ],
             [
              0.8888888888888888,
              "#fdca26"
             ],
             [
              1,
              "#f0f921"
             ]
            ],
            "type": "histogram2dcontour"
           }
          ],
          "mesh3d": [
           {
            "colorbar": {
             "outlinewidth": 0,
             "ticks": ""
            },
            "type": "mesh3d"
           }
          ],
          "parcoords": [
           {
            "line": {
             "colorbar": {
              "outlinewidth": 0,
              "ticks": ""
             }
            },
            "type": "parcoords"
           }
          ],
          "pie": [
           {
            "automargin": true,
            "type": "pie"
           }
          ],
          "scatter": [
           {
            "fillpattern": {
             "fillmode": "overlay",
             "size": 10,
             "solidity": 0.2
            },
            "type": "scatter"
           }
          ],
          "scatter3d": [
           {
            "line": {
             "colorbar": {
              "outlinewidth": 0,
              "ticks": ""
             }
            },
            "marker": {
             "colorbar": {
              "outlinewidth": 0,
              "ticks": ""
             }
            },
            "type": "scatter3d"
           }
          ],
          "scattercarpet": [
           {
            "marker": {
             "colorbar": {
              "outlinewidth": 0,
              "ticks": ""
             }
            },
            "type": "scattercarpet"
           }
          ],
          "scattergeo": [
           {
            "marker": {
             "colorbar": {
              "outlinewidth": 0,
              "ticks": ""
             }
            },
            "type": "scattergeo"
           }
          ],
          "scattergl": [
           {
            "marker": {
             "colorbar": {
              "outlinewidth": 0,
              "ticks": ""
             }
            },
            "type": "scattergl"
           }
          ],
          "scattermapbox": [
           {
            "marker": {
             "colorbar": {
              "outlinewidth": 0,
              "ticks": ""
             }
            },
            "type": "scattermapbox"
           }
          ],
          "scatterpolar": [
           {
            "marker": {
             "colorbar": {
              "outlinewidth": 0,
              "ticks": ""
             }
            },
            "type": "scatterpolar"
           }
          ],
          "scatterpolargl": [
           {
            "marker": {
             "colorbar": {
              "outlinewidth": 0,
              "ticks": ""
             }
            },
            "type": "scatterpolargl"
           }
          ],
          "scatterternary": [
           {
            "marker": {
             "colorbar": {
              "outlinewidth": 0,
              "ticks": ""
             }
            },
            "type": "scatterternary"
           }
          ],
          "surface": [
           {
            "colorbar": {
             "outlinewidth": 0,
             "ticks": ""
            },
            "colorscale": [
             [
              0,
              "#0d0887"
             ],
             [
              0.1111111111111111,
              "#46039f"
             ],
             [
              0.2222222222222222,
              "#7201a8"
             ],
             [
              0.3333333333333333,
              "#9c179e"
             ],
             [
              0.4444444444444444,
              "#bd3786"
             ],
             [
              0.5555555555555556,
              "#d8576b"
             ],
             [
              0.6666666666666666,
              "#ed7953"
             ],
             [
              0.7777777777777778,
              "#fb9f3a"
             ],
             [
              0.8888888888888888,
              "#fdca26"
             ],
             [
              1,
              "#f0f921"
             ]
            ],
            "type": "surface"
           }
          ],
          "table": [
           {
            "cells": {
             "fill": {
              "color": "#EBF0F8"
             },
             "line": {
              "color": "white"
             }
            },
            "header": {
             "fill": {
              "color": "#C8D4E3"
             },
             "line": {
              "color": "white"
             }
            },
            "type": "table"
           }
          ]
         },
         "layout": {
          "annotationdefaults": {
           "arrowcolor": "#2a3f5f",
           "arrowhead": 0,
           "arrowwidth": 1
          },
          "autotypenumbers": "strict",
          "coloraxis": {
           "colorbar": {
            "outlinewidth": 0,
            "ticks": ""
           }
          },
          "colorscale": {
           "diverging": [
            [
             0,
             "#8e0152"
            ],
            [
             0.1,
             "#c51b7d"
            ],
            [
             0.2,
             "#de77ae"
            ],
            [
             0.3,
             "#f1b6da"
            ],
            [
             0.4,
             "#fde0ef"
            ],
            [
             0.5,
             "#f7f7f7"
            ],
            [
             0.6,
             "#e6f5d0"
            ],
            [
             0.7,
             "#b8e186"
            ],
            [
             0.8,
             "#7fbc41"
            ],
            [
             0.9,
             "#4d9221"
            ],
            [
             1,
             "#276419"
            ]
           ],
           "sequential": [
            [
             0,
             "#0d0887"
            ],
            [
             0.1111111111111111,
             "#46039f"
            ],
            [
             0.2222222222222222,
             "#7201a8"
            ],
            [
             0.3333333333333333,
             "#9c179e"
            ],
            [
             0.4444444444444444,
             "#bd3786"
            ],
            [
             0.5555555555555556,
             "#d8576b"
            ],
            [
             0.6666666666666666,
             "#ed7953"
            ],
            [
             0.7777777777777778,
             "#fb9f3a"
            ],
            [
             0.8888888888888888,
             "#fdca26"
            ],
            [
             1,
             "#f0f921"
            ]
           ],
           "sequentialminus": [
            [
             0,
             "#0d0887"
            ],
            [
             0.1111111111111111,
             "#46039f"
            ],
            [
             0.2222222222222222,
             "#7201a8"
            ],
            [
             0.3333333333333333,
             "#9c179e"
            ],
            [
             0.4444444444444444,
             "#bd3786"
            ],
            [
             0.5555555555555556,
             "#d8576b"
            ],
            [
             0.6666666666666666,
             "#ed7953"
            ],
            [
             0.7777777777777778,
             "#fb9f3a"
            ],
            [
             0.8888888888888888,
             "#fdca26"
            ],
            [
             1,
             "#f0f921"
            ]
           ]
          },
          "colorway": [
           "#636efa",
           "#EF553B",
           "#00cc96",
           "#ab63fa",
           "#FFA15A",
           "#19d3f3",
           "#FF6692",
           "#B6E880",
           "#FF97FF",
           "#FECB52"
          ],
          "font": {
           "color": "#2a3f5f"
          },
          "geo": {
           "bgcolor": "white",
           "lakecolor": "white",
           "landcolor": "#E5ECF6",
           "showlakes": true,
           "showland": true,
           "subunitcolor": "white"
          },
          "hoverlabel": {
           "align": "left"
          },
          "hovermode": "closest",
          "mapbox": {
           "style": "light"
          },
          "paper_bgcolor": "white",
          "plot_bgcolor": "#E5ECF6",
          "polar": {
           "angularaxis": {
            "gridcolor": "white",
            "linecolor": "white",
            "ticks": ""
           },
           "bgcolor": "#E5ECF6",
           "radialaxis": {
            "gridcolor": "white",
            "linecolor": "white",
            "ticks": ""
           }
          },
          "scene": {
           "xaxis": {
            "backgroundcolor": "#E5ECF6",
            "gridcolor": "white",
            "gridwidth": 2,
            "linecolor": "white",
            "showbackground": true,
            "ticks": "",
            "zerolinecolor": "white"
           },
           "yaxis": {
            "backgroundcolor": "#E5ECF6",
            "gridcolor": "white",
            "gridwidth": 2,
            "linecolor": "white",
            "showbackground": true,
            "ticks": "",
            "zerolinecolor": "white"
           },
           "zaxis": {
            "backgroundcolor": "#E5ECF6",
            "gridcolor": "white",
            "gridwidth": 2,
            "linecolor": "white",
            "showbackground": true,
            "ticks": "",
            "zerolinecolor": "white"
           }
          },
          "shapedefaults": {
           "line": {
            "color": "#2a3f5f"
           }
          },
          "ternary": {
           "aaxis": {
            "gridcolor": "white",
            "linecolor": "white",
            "ticks": ""
           },
           "baxis": {
            "gridcolor": "white",
            "linecolor": "white",
            "ticks": ""
           },
           "bgcolor": "#E5ECF6",
           "caxis": {
            "gridcolor": "white",
            "linecolor": "white",
            "ticks": ""
           }
          },
          "title": {
           "x": 0.05
          },
          "xaxis": {
           "automargin": true,
           "gridcolor": "white",
           "linecolor": "white",
           "ticks": "",
           "title": {
            "standoff": 15
           },
           "zerolinecolor": "white",
           "zerolinewidth": 2
          },
          "yaxis": {
           "automargin": true,
           "gridcolor": "white",
           "linecolor": "white",
           "ticks": "",
           "title": {
            "standoff": 15
           },
           "zerolinecolor": "white",
           "zerolinewidth": 2
          }
         }
        },
        "width": 600
       }
      }
     },
     "metadata": {},
     "output_type": "display_data"
    }
   ],
   "source": [
    "fig = px.scatter_mapbox(\n",
    "    Mexico_df[Mexico_df['state'] == \"Distrito Federal\"], # The DataFrame\n",
    "    lat= \"lat\",\n",
    "    lon= \"lon\",\n",
    "    center= {\"lat\": 19.43, \"lon\": -99.13},  #This will Center the Map in Mexico City\n",
    "    width= 600, # Width of the map\n",
    "    height= 600, # Height of the map\n",
    "    hover_data= [\"price_usd\", \"state\"]  # Display The Price when hovering over a location   \n",
    ")\n",
    "\n",
    "# Adding the mapbox_style to figure layout\n",
    "fig.update_layout(mapbox_style = \"open-street-map\")\n",
    "\n",
    "#Showing the Figure\n",
    "fig.show()"
   ]
  },
  {
   "cell_type": "markdown",
   "metadata": {},
   "source": [
    "### Categorical Data: `\"state\"`"
   ]
  },
  {
   "cell_type": "code",
   "execution_count": 12,
   "metadata": {},
   "outputs": [
    {
     "data": {
      "text/plain": [
       "state\n",
       "Distrito Federal                   303\n",
       "Estado de México                   179\n",
       "Yucatán                            171\n",
       "Morelos                            160\n",
       "Querétaro                          128\n",
       "Veracruz de Ignacio de la Llave    117\n",
       "Puebla                              95\n",
       "Nuevo León                          83\n",
       "Jalisco                             60\n",
       "San Luis Potosí                     55\n",
       "Name: count, dtype: int64"
      ]
     },
     "execution_count": 12,
     "metadata": {},
     "output_type": "execute_result"
    }
   ],
   "source": [
    "Mexico_df['state'].value_counts().sort_values(ascending= False).head(10)"
   ]
  },
  {
   "cell_type": "markdown",
   "metadata": {},
   "source": [
    "### Numerical Data: `\"area_m2\"` and `\"price_usd\"`"
   ]
  },
  {
   "cell_type": "code",
   "execution_count": 16,
   "metadata": {},
   "outputs": [
    {
     "data": {
      "text/html": [
       "<div>\n",
       "<style scoped>\n",
       "    .dataframe tbody tr th:only-of-type {\n",
       "        vertical-align: middle;\n",
       "    }\n",
       "\n",
       "    .dataframe tbody tr th {\n",
       "        vertical-align: top;\n",
       "    }\n",
       "\n",
       "    .dataframe thead th {\n",
       "        text-align: right;\n",
       "    }\n",
       "</style>\n",
       "<table border=\"1\" class=\"dataframe\">\n",
       "  <thead>\n",
       "    <tr style=\"text-align: right;\">\n",
       "      <th></th>\n",
       "      <th>area_m2</th>\n",
       "      <th>price_usd</th>\n",
       "    </tr>\n",
       "  </thead>\n",
       "  <tbody>\n",
       "    <tr>\n",
       "      <th>count</th>\n",
       "      <td>1736.000000</td>\n",
       "      <td>1736.000000</td>\n",
       "    </tr>\n",
       "    <tr>\n",
       "      <th>mean</th>\n",
       "      <td>170.261521</td>\n",
       "      <td>115331.980800</td>\n",
       "    </tr>\n",
       "    <tr>\n",
       "      <th>std</th>\n",
       "      <td>80.594539</td>\n",
       "      <td>65426.173793</td>\n",
       "    </tr>\n",
       "    <tr>\n",
       "      <th>min</th>\n",
       "      <td>60.000000</td>\n",
       "      <td>33157.894737</td>\n",
       "    </tr>\n",
       "    <tr>\n",
       "      <th>25%</th>\n",
       "      <td>101.750000</td>\n",
       "      <td>65789.473684</td>\n",
       "    </tr>\n",
       "    <tr>\n",
       "      <th>50%</th>\n",
       "      <td>156.000000</td>\n",
       "      <td>99262.132105</td>\n",
       "    </tr>\n",
       "    <tr>\n",
       "      <th>75%</th>\n",
       "      <td>220.000000</td>\n",
       "      <td>150846.665000</td>\n",
       "    </tr>\n",
       "    <tr>\n",
       "      <th>max</th>\n",
       "      <td>385.000000</td>\n",
       "      <td>326733.660000</td>\n",
       "    </tr>\n",
       "  </tbody>\n",
       "</table>\n",
       "</div>"
      ],
      "text/plain": [
       "           area_m2      price_usd\n",
       "count  1736.000000    1736.000000\n",
       "mean    170.261521  115331.980800\n",
       "std      80.594539   65426.173793\n",
       "min      60.000000   33157.894737\n",
       "25%     101.750000   65789.473684\n",
       "50%     156.000000   99262.132105\n",
       "75%     220.000000  150846.665000\n",
       "max     385.000000  326733.660000"
      ]
     },
     "execution_count": 16,
     "metadata": {},
     "output_type": "execute_result"
    }
   ],
   "source": [
    "# Descibe area and price\n",
    "Mexico_df[['area_m2', 'price_usd']].describe()"
   ]
  },
  {
   "cell_type": "markdown",
   "metadata": {},
   "source": [
    "Create a histogram of \"price_usd\". Make sure that the x-axis has the label \"Area\", the y-axis has the label \"Frequency\", and the plot has the title \"Distribution of Home Sizes\"."
   ]
  },
  {
   "cell_type": "code",
   "execution_count": 39,
   "metadata": {},
   "outputs": [
    {
     "data": {
      "image/png": "[encoded data removed]",
      "text/plain": [
       "<Figure size 640x480 with 1 Axes>"
      ]
     },
     "metadata": {},
     "output_type": "display_data"
    }
   ],
   "source": [
    "plt.hist(Mexico_df['area_m2'], bins = 10, color = \"purple\", rwidth=0.9)\n",
    "\n",
    "\n",
    "plt.xlabel(\"Area in m2\")\n",
    "plt.ylabel(\"Frequency\")\n",
    "plt.title(\"Distribution of Home Sizes\")\n",
    "plt.grid(axis=\"both\", alpha=0.5, color = 'grey')\n",
    "\n",
    "plt.show()"
   ]
  },
  {
   "cell_type": "code",
   "execution_count": 49,
   "metadata": {},
   "outputs": [
    {
     "data": {
      "text/plain": [
       "Text(0.5, 1.0, 'Distribution of Area')"
      ]
     },
     "execution_count": 49,
     "metadata": {},
     "output_type": "execute_result"
    },
    {
     "data": {
      "image/png": "[encoded data removed]",
      "text/plain": [
       "<Figure size 640x480 with 1 Axes>"
      ]
     },
     "metadata": {},
     "output_type": "display_data"
    }
   ],
   "source": [
    "### Boxplot\n",
    "plt.boxplot(x= Mexico_df['area_m2'])\n",
    "            # hue =Mexico_df['property_type'])\n",
    "plt.xlabel(\"Area in m2\")\n",
    "plt.title(\"Distribution of Area\")"
   ]
  },
  {
   "cell_type": "code",
   "execution_count": 43,
   "metadata": {},
   "outputs": [
    {
     "data": {
      "text/html": [
       "<div>\n",
       "<style scoped>\n",
       "    .dataframe tbody tr th:only-of-type {\n",
       "        vertical-align: middle;\n",
       "    }\n",
       "\n",
       "    .dataframe tbody tr th {\n",
       "        vertical-align: top;\n",
       "    }\n",
       "\n",
       "    .dataframe thead th {\n",
       "        text-align: right;\n",
       "    }\n",
       "</style>\n",
       "<table border=\"1\" class=\"dataframe\">\n",
       "  <thead>\n",
       "    <tr style=\"text-align: right;\">\n",
       "      <th></th>\n",
       "      <th>property_type</th>\n",
       "      <th>state</th>\n",
       "      <th>lat</th>\n",
       "      <th>lon</th>\n",
       "      <th>area_m2</th>\n",
       "      <th>price_usd</th>\n",
       "    </tr>\n",
       "  </thead>\n",
       "  <tbody>\n",
       "    <tr>\n",
       "      <th>0</th>\n",
       "      <td>house</td>\n",
       "      <td>Estado de México</td>\n",
       "      <td>19.560181</td>\n",
       "      <td>-99.233528</td>\n",
       "      <td>150</td>\n",
       "      <td>67965.56</td>\n",
       "    </tr>\n",
       "    <tr>\n",
       "      <th>1</th>\n",
       "      <td>house</td>\n",
       "      <td>Nuevo León</td>\n",
       "      <td>25.688436</td>\n",
       "      <td>-100.198807</td>\n",
       "      <td>186</td>\n",
       "      <td>63223.78</td>\n",
       "    </tr>\n",
       "    <tr>\n",
       "      <th>2</th>\n",
       "      <td>apartment</td>\n",
       "      <td>Guerrero</td>\n",
       "      <td>16.767704</td>\n",
       "      <td>-99.764383</td>\n",
       "      <td>82</td>\n",
       "      <td>84298.37</td>\n",
       "    </tr>\n",
       "    <tr>\n",
       "      <th>3</th>\n",
       "      <td>apartment</td>\n",
       "      <td>Guerrero</td>\n",
       "      <td>16.829782</td>\n",
       "      <td>-99.911012</td>\n",
       "      <td>150</td>\n",
       "      <td>94308.80</td>\n",
       "    </tr>\n",
       "    <tr>\n",
       "      <th>4</th>\n",
       "      <td>house</td>\n",
       "      <td>Yucatán</td>\n",
       "      <td>21.052583</td>\n",
       "      <td>-89.538639</td>\n",
       "      <td>205</td>\n",
       "      <td>105191.37</td>\n",
       "    </tr>\n",
       "  </tbody>\n",
       "</table>\n",
       "</div>"
      ],
      "text/plain": [
       "  property_type             state        lat         lon  area_m2  price_usd\n",
       "0         house  Estado de México  19.560181  -99.233528      150   67965.56\n",
       "1         house        Nuevo León  25.688436 -100.198807      186   63223.78\n",
       "2     apartment          Guerrero  16.767704  -99.764383       82   84298.37\n",
       "3     apartment          Guerrero  16.829782  -99.911012      150   94308.80\n",
       "4         house           Yucatán  21.052583  -89.538639      205  105191.37"
      ]
     },
     "execution_count": 43,
     "metadata": {},
     "output_type": "execute_result"
    }
   ],
   "source": [
    "Mexico_df.head()"
   ]
  },
  {
   "cell_type": "markdown",
   "metadata": {},
   "source": [
    "Create a histogram of \"price_usd\". Make sure that the x-axis has the label \"Price [USD]\", the y-axis has the label \"Frequency\", and the plot has the title \"Distribution of Home Prices\"."
   ]
  },
  {
   "cell_type": "code",
   "execution_count": 57,
   "metadata": {},
   "outputs": [
    {
     "data": {
      "image/png": "[encoded data removed]",
      "text/plain": [
       "<Figure size 640x480 with 1 Axes>"
      ]
     },
     "metadata": {},
     "output_type": "display_data"
    }
   ],
   "source": [
    "plt.hist(Mexico_df['price_usd'], bins = 12, color = \"turquoise\", rwidth=0.9)\n",
    "\n",
    "\n",
    "plt.xlabel(\"Price in USD\")\n",
    "plt.ylabel(\"Frequency\")\n",
    "plt.title(\"Distribution of Home Prices\")\n",
    "plt.grid(axis=\"both\", alpha=0.5, color = 'grey')\n",
    "\n",
    "plt.show()"
   ]
  },
  {
   "cell_type": "code",
   "execution_count": 55,
   "metadata": {},
   "outputs": [
    {
     "data": {
      "text/plain": [
       "Text(0.5, 1.0, 'Distribution of Prices')"
      ]
     },
     "execution_count": 55,
     "metadata": {},
     "output_type": "execute_result"
    },
    {
     "data": {
      "image/png": "[encoded data removed]",
      "text/plain": [
       "<Figure size 640x480 with 1 Axes>"
      ]
     },
     "metadata": {},
     "output_type": "display_data"
    }
   ],
   "source": [
    "plt.boxplot(x= Mexico_df['price_usd'])\n",
    "            # hue =Mexico_df['property_type'])\n",
    "plt.xlabel(\"Price in USD\")\n",
    "plt.title(\"Distribution of Prices\")"
   ]
  },
  {
   "cell_type": "code",
   "execution_count": 56,
   "metadata": {},
   "outputs": [
    {
     "data": {
      "text/plain": [
       "count      1736.000000\n",
       "mean     115331.980800\n",
       "std       65426.173793\n",
       "min       33157.894737\n",
       "25%       65789.473684\n",
       "50%       99262.132105\n",
       "75%      150846.665000\n",
       "max      326733.660000\n",
       "Name: price_usd, dtype: float64"
      ]
     },
     "execution_count": 56,
     "metadata": {},
     "output_type": "execute_result"
    }
   ],
   "source": [
    "Mexico_df['price_usd'].describe()"
   ]
  },
  {
   "cell_type": "code",
   "execution_count": 64,
   "metadata": {},
   "outputs": [
    {
     "data": {
      "text/plain": [
       "<matplotlib.collections.PathCollection at 0x1f99cd39ff0>"
      ]
     },
     "execution_count": 64,
     "metadata": {},
     "output_type": "execute_result"
    },
    {
     "data": {
      "image/png": "[encoded data removed]",
      "text/plain": [
       "<Figure size 640x480 with 1 Axes>"
      ]
     },
     "metadata": {},
     "output_type": "display_data"
    }
   ],
   "source": [
    "plt.scatter(data = Mexico_df,\n",
    "            y = 'price_usd',\n",
    "            x = 'area_m2')\n",
    "\n"
   ]
  },
  {
   "cell_type": "code",
   "execution_count": 1,
   "metadata": {},
   "outputs": [],
   "source": [
    "import numpy as np"
   ]
  },
  {
   "cell_type": "code",
   "execution_count": 3,
   "metadata": {},
   "outputs": [
    {
     "data": {
      "text/plain": [
       "35.0"
      ]
     },
     "execution_count": 3,
     "metadata": {},
     "output_type": "execute_result"
    }
   ],
   "source": [
    "700/20"
   ]
  },
  {
   "cell_type": "code",
   "execution_count": null,
   "metadata": {},
   "outputs": [],
   "source": []
  }
 ],
 "metadata": {
  "kernelspec": {
   "display_name": "Python_Dev",
   "language": "python",
   "name": "python3"
  },
  "language_info": {
   "codemirror_mode": {
    "name": "ipython",
    "version": 3
   },
   "file_extension": ".py",
   "mimetype": "text/x-python",
   "name": "python",
   "nbconvert_exporter": "python",
   "pygments_lexer": "ipython3",
   "version": "3.10.13"
  }
 },
 "nbformat": 4,
 "nbformat_minor": 2
}
