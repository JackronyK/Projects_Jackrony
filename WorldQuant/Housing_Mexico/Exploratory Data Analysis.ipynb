{
 "cells": [
  {
   "cell_type": "markdown",
   "metadata": {},
   "source": [
    "### Exploratory Data Analysis"
   ]
  },
  {
   "cell_type": "code",
   "execution_count": 1,
   "metadata": {},
   "outputs": [],
   "source": [
    "## Loading the Data\n",
    "import pandas as pd\n"
   ]
  },
  {
   "cell_type": "code",
   "execution_count": 3,
   "metadata": {},
   "outputs": [
    {
     "name": "stdout",
     "output_type": "stream",
     "text": [
      "<class 'pandas.core.frame.DataFrame'>\n",
      "RangeIndex: 1736 entries, 0 to 1735\n",
      "Data columns (total 6 columns):\n",
      " #   Column         Non-Null Count  Dtype  \n",
      "---  ------         --------------  -----  \n",
      " 0   property_type  1736 non-null   object \n",
      " 1   state          1736 non-null   object \n",
      " 2   lat            1736 non-null   float64\n",
      " 3   lon            1736 non-null   float64\n",
      " 4   area_m2        1736 non-null   int64  \n",
      " 5   price_usd      1736 non-null   float64\n",
      "dtypes: float64(3), int64(1), object(2)\n",
      "memory usage: 81.5+ KB\n"
     ]
    }
   ],
   "source": [
    "Mexico_df = pd.read_csv('C:\\\\Users\\\\USER\\\\OneDrive\\\\CB\\Projects\\\\Projects_Jackrony\\\\WorldQuant\\\\Housing_Mexico\\\\Data\\\\ mexico-real-estate-cleaned Data.csv')\n",
    "Mexico_df.head()\n",
    "Mexico_df.info()"
   ]
  },
  {
   "cell_type": "code",
   "execution_count": null,
   "metadata": {},
   "outputs": [],
   "source": []
  }
 ],
 "metadata": {
  "kernelspec": {
   "display_name": "Python_Dev",
   "language": "python",
   "name": "python3"
  },
  "language_info": {
   "codemirror_mode": {
    "name": "ipython",
    "version": 3
   },
   "file_extension": ".py",
   "mimetype": "text/x-python",
   "name": "python",
   "nbconvert_exporter": "python",
   "pygments_lexer": "ipython3",
   "version": "3.10.13"
  }
 },
 "nbformat": 4,
 "nbformat_minor": 2
}
